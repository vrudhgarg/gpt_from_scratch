{
 "cells": [
  {
   "cell_type": "code",
   "execution_count": 4,
   "id": "16fc36a1",
   "metadata": {},
   "outputs": [],
   "source": [
    "corpus = [\n",
    "(\"I love machine learning and deep learning\", 1),\n",
    "(\"I hate it when the Jupyter lab kernel dies on me\", 0),     \n",
    "(\"Data cleaning is a tedious task\", 0),\n",
    "(\"Hidden Markov models are so elegant\", 1),    \n",
    "(\"Nothing is more exciting than uncovering hidden patterns in data\", 1),\n",
    "(\"Debugging machine learning models can be frustrating\", 0),\n",
    "(\"Overfitting is a common problem in machine learning models\", 0),\n",
    "(\"It's rewarding to see your model perform well on unseen data\", 1),\n",
    "(\"Dealing with missing data is annoying\", 0),\n",
    "(\"I enjoy learning about neural models for sequence processing\", 1)\n",
    "]"
   ]
  },
  {
   "cell_type": "code",
   "execution_count": 1,
   "id": "8040a9fa",
   "metadata": {},
   "outputs": [],
   "source": [
    "from collections import Counter"
   ]
  },
  {
   "cell_type": "code",
   "execution_count": 15,
   "id": "b486e79b",
   "metadata": {},
   "outputs": [],
   "source": [
    "tokens = [sentence.lower().split() for sentence,_ in corpus]\n",
    "vocab = Counter(word for sentence in tokens for word in sentence)"
   ]
  },
  {
   "cell_type": "code",
   "execution_count": 18,
   "id": "f802b6e1",
   "metadata": {},
   "outputs": [],
   "source": [
    "word_to_ix = {word:index+1 for index, (word,_) in enumerate(vocab.items())}\n",
    "ix_to_word = { index: word for word, index in word_to_ix.items()}"
   ]
  },
  {
   "cell_type": "code",
   "execution_count": 20,
   "id": "2debb855",
   "metadata": {},
   "outputs": [],
   "source": [
    "vocab_size = len(word_to_ix) +1 # +1 for padding token at index 0"
   ]
  },
  {
   "cell_type": "code",
   "execution_count": 21,
   "id": "6ecb9bd7",
   "metadata": {},
   "outputs": [
    {
     "data": {
      "text/plain": [
       "62"
      ]
     },
     "execution_count": 21,
     "metadata": {},
     "output_type": "execute_result"
    }
   ],
   "source": [
    "vocab_size"
   ]
  },
  {
   "cell_type": "code",
   "execution_count": 28,
   "id": "ccd54b7e",
   "metadata": {},
   "outputs": [],
   "source": [
    "import torch\n",
    "from torch.nn.utils.rnn import pad_sequence"
   ]
  },
  {
   "cell_type": "code",
   "execution_count": 25,
   "id": "3a8194b9",
   "metadata": {},
   "outputs": [
    {
     "data": {
      "text/plain": [
       "[[1, 2, 3, 4, 5, 6, 4],\n",
       " [1, 7, 8, 9, 10, 11, 12, 13, 14, 15, 16],\n",
       " [17, 18, 19, 20, 21, 22],\n",
       " [23, 24, 25, 26, 27, 28],\n",
       " [29, 19, 30, 31, 32, 33, 23, 34, 35, 17],\n",
       " [36, 3, 4, 25, 37, 38, 39],\n",
       " [40, 19, 20, 41, 42, 35, 3, 4, 25],\n",
       " [43, 44, 45, 46, 47, 48, 49, 50, 15, 51, 17],\n",
       " [52, 53, 54, 17, 19, 55],\n",
       " [1, 56, 4, 57, 58, 25, 59, 60, 61]]"
      ]
     },
     "execution_count": 25,
     "metadata": {},
     "output_type": "execute_result"
    }
   ],
   "source": [
    "sequences = [[ word_to_ix[word] for word in sentence.lower().split()] for sentence,_ in corpus]\n",
    "sequences"
   ]
  },
  {
   "cell_type": "code",
   "execution_count": 33,
   "id": "7ab797ad",
   "metadata": {},
   "outputs": [
    {
     "data": {
      "text/plain": [
       "tensor([[ 1,  2,  3,  4,  5,  6,  4,  0,  0,  0,  0],\n",
       "        [ 1,  7,  8,  9, 10, 11, 12, 13, 14, 15, 16],\n",
       "        [17, 18, 19, 20, 21, 22,  0,  0,  0,  0,  0],\n",
       "        [23, 24, 25, 26, 27, 28,  0,  0,  0,  0,  0],\n",
       "        [29, 19, 30, 31, 32, 33, 23, 34, 35, 17,  0],\n",
       "        [36,  3,  4, 25, 37, 38, 39,  0,  0,  0,  0],\n",
       "        [40, 19, 20, 41, 42, 35,  3,  4, 25,  0,  0],\n",
       "        [43, 44, 45, 46, 47, 48, 49, 50, 15, 51, 17],\n",
       "        [52, 53, 54, 17, 19, 55,  0,  0,  0,  0,  0],\n",
       "        [ 1, 56,  4, 57, 58, 25, 59, 60, 61,  0,  0]])"
      ]
     },
     "execution_count": 33,
     "metadata": {},
     "output_type": "execute_result"
    }
   ],
   "source": [
    "pad_sequence([torch.tensor(seq) for seq in sequences], batch_first=True)"
   ]
  },
  {
   "cell_type": "code",
   "execution_count": null,
   "id": "448f5eea",
   "metadata": {},
   "outputs": [],
   "source": []
  }
 ],
 "metadata": {
  "kernelspec": {
   "display_name": "575",
   "language": "python",
   "name": "python3"
  },
  "language_info": {
   "codemirror_mode": {
    "name": "ipython",
    "version": 3
   },
   "file_extension": ".py",
   "mimetype": "text/x-python",
   "name": "python",
   "nbconvert_exporter": "python",
   "pygments_lexer": "ipython3",
   "version": "3.12.0"
  }
 },
 "nbformat": 4,
 "nbformat_minor": 5
}
